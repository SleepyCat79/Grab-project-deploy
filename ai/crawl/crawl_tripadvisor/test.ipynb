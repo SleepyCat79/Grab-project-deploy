{
 "cells": [
  {
   "cell_type": "code",
   "execution_count": 6,
   "metadata": {},
   "outputs": [
    {
     "name": "stdout",
     "output_type": "stream",
     "text": [
      "✅ Đã tạo file merged_detailed_data.csv với 504 dòng\n"
     ]
    }
   ],
   "source": [
    "import os\n",
    "import json\n",
    "import pandas as pd\n",
    "\n",
    "# Đường dẫn đến folder chứa 5 file JSON\n",
    "folder_path = '/Users/doa_ai/Developer/Grab-project/ai/crawl/crawl_tripadvisor/data_attractions/spa'  # ← Đổi tên theo thư mục bạn dùng\n",
    "all_data = []\n",
    "\n",
    "# Lặp qua tất cả file .json trong thư mục\n",
    "for filename in os.listdir(folder_path):\n",
    "    if filename.endswith('.json'):\n",
    "        file_path = os.path.join(folder_path, filename)\n",
    "        try:\n",
    "            with open(file_path, 'r', encoding='utf-8') as f:\n",
    "                data = json.load(f)\n",
    "                all_data.extend(data)\n",
    "                \n",
    "        except Exception as e:\n",
    "            print(f\"❌ Lỗi đọc {filename}: {e}\")\n",
    "\n",
    "# Nếu có dữ liệu thì lưu ra CSV\n",
    "if all_data:\n",
    "    df = pd.DataFrame(all_data)\n",
    "    df.to_csv('/Users/doa_ai/Developer/Grab-project/ai/crawl/crawl_tripadvisor/data_attractions/sapa.csv', index=False, encoding='utf-8-sig')\n",
    "    print(f\"✅ Đã tạo file merged_detailed_data.csv với {len(df)} dòng\")\n",
    "else:\n",
    "    print(\"⚠️ Không tìm thấy dữ liệu detailed_data trong bất kỳ file nào.\")\n"
   ]
  },
  {
   "cell_type": "code",
   "execution_count": 4,
   "metadata": {},
   "outputs": [],
   "source": [
    "import json\n",
    "import pandas as pd\n",
    "\n",
    "# Bước 1: Đọc file JSON\n",
    "file_name = '/Users/doa_ai/Developer/Grab-project/ai/crawl/crawl_tripadvisor/data_restaurants/nhatrang/20250428/restaurants_1258.json'\n",
    "with open(file_name, 'r', encoding='utf-8') as f:\n",
    "    data = json.load(f)\n",
    "\n",
    "# Bước 2: Đưa vào DataFrame\n",
    "df = pd.DataFrame(data)\n",
    "\n",
    "# Bước 3: Xử lý các cột dạng list (ví dụ cuisines, example_reviews, media_urls)\n",
    "# Chuyển thành chuỗi ngăn cách bằng dấu phẩy\n",
    "list_columns = ['cuisines', 'example_reviews', 'media_urls']\n",
    "for col in list_columns:\n",
    "    if col in df.columns:\n",
    "        df[col] = df[col].apply(lambda x: ', '.join(x) if isinstance(x, list) else x)\n",
    "\n",
    "# Bước 4: Ghi ra CSV\n",
    "df.to_csv('/Users/doa_ai/Developer/Grab-project/ai/crawl/crawl_tripadvisor/data_restaurants/nhatrang_restaurants_1.csv', index=False, encoding='utf-8-sig')\n"
   ]
  }
 ],
 "metadata": {
  "kernelspec": {
   "display_name": "base",
   "language": "python",
   "name": "python3"
  },
  "language_info": {
   "codemirror_mode": {
    "name": "ipython",
    "version": 3
   },
   "file_extension": ".py",
   "mimetype": "text/x-python",
   "name": "python",
   "nbconvert_exporter": "python",
   "pygments_lexer": "ipython3",
   "version": "3.12.4"
  }
 },
 "nbformat": 4,
 "nbformat_minor": 2
}
