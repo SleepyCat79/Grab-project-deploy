{
 "cells": [
  {
   "cell_type": "code",
   "execution_count": 2,
   "metadata": {},
   "outputs": [
    {
     "name": "stdout",
     "output_type": "stream",
     "text": [
      "❌ Error: 403 Client Error: Forbidden for url: https://gappapi.deliverynow.vn/api/delivery/get_shops?request_id=&category_group=&category_id=&keyword=&city_id=218&district_id=&sort_type=3&page=1\n",
      "🔎 Raw response: {\"is_customized\":false,\"is_login\":false,\"action_type\":2,\"error\":90309999,\"tracking_id\":\"35372218343-8186-4761-bcc1-f64dfec38f40\"}\n",
      "\n"
     ]
    }
   ],
   "source": [
    "import requests\n",
    "import json\n",
    "\n",
    "def crawl_foody_api(page=1):\n",
    "    url = \"https://gappapi.deliverynow.vn/api/delivery/get_shops\"\n",
    "    params = {\n",
    "        \"request_id\": \"\",\n",
    "        \"category_group\": \"\",\n",
    "        \"category_id\": \"\",\n",
    "        \"keyword\": \"\",\n",
    "        \"city_id\": 218,  # 218 = Hà Nội\n",
    "        \"district_id\": \"\",\n",
    "        \"sort_type\": 3,\n",
    "        \"page\": page\n",
    "    }\n",
    "    headers = {\n",
    "        \"User-Agent\": \"Mozilla/5.0 (Macintosh; Intel Mac OS X 10_15_7) AppleWebKit/537.36 (KHTML, like Gecko) Chrome/122.0.0.0 Safari/537.36\",\n",
    "        \"Referer\": \"https://www.foody.vn/ha-noi\",\n",
    "        \"Accept\": \"application/json\"\n",
    "    }\n",
    "\n",
    "    try:\n",
    "        response = requests.get(url, params=params, headers=headers, timeout=10)\n",
    "        response.raise_for_status()\n",
    "        data = response.json()\n",
    "    except Exception as e:\n",
    "        print(\"❌ Error:\", e)\n",
    "        print(\"🔎 Raw response:\", response.text)\n",
    "        return\n",
    "\n",
    "    shops = data.get(\"reply\", {}).get(\"shops\", [])\n",
    "    if not shops:\n",
    "        print(\"⚠️ Không tìm thấy địa điểm nào.\")\n",
    "    for shop in shops:\n",
    "        print({\n",
    "            \"name\": shop.get(\"name\"),\n",
    "            \"address\": shop.get(\"address\"),\n",
    "            \"rating\": shop.get(\"avg_rating\"),\n",
    "            \"price_range\": shop.get(\"price_range\"),\n",
    "            \"link\": \"https://www.foody.vn\" + shop.get(\"url\"),\n",
    "            \"image\": shop.get(\"photos\")[0].get(\"value\") if shop.get(\"photos\") else \"\"\n",
    "        })\n",
    "\n",
    "crawl_foody_api(page=1)\n"
   ]
  },
  {
   "cell_type": "code",
   "execution_count": 4,
   "metadata": {},
   "outputs": [
    {
     "name": "stdout",
     "output_type": "stream",
     "text": [
      "Status: 200\n",
      "{'name': 'Sweetc Hut - Tiệm Bánh Online', 'address': '49 Ngõ 93 Vương Thừa Vũ, P. Khương Trung, Quận Thanh Xuân, Hà Nội', 'rating': 7.928, 'price_range': 'None - None', 'link': 'https://www.foody.vn', 'image': None}\n",
      "{'name': 'Trang Cháo - Nguyễn Ngọc Vũ', 'address': '125 Nguyễn Ngọc Vũ, P. Yên Hòa, Quận Cầu Giấy, Hà Nội', 'rating': 9.0, 'price_range': 'None - None', 'link': 'https://www.foody.vn', 'image': None}\n",
      "{'name': 'Trà Sữa Gong Cha - 貢茶 - Hoàng Thành Tower', 'address': 'Hoàng Thành Tower, 114 Mai Hắc Đế, Quận Hai Bà Trưng, Hà Nội', 'rating': 7.564, 'price_range': 'None - None', 'link': 'https://www.foody.vn', 'image': None}\n",
      "{'name': \"Gà Rán & Burger McDonald's - Thái Hà\", 'address': 'Tầng Trệt Tòa Nhà Việt Tower, 1 Thái Hà, P. Trung Liệt, Quận Đống Đa, Hà Nội', 'rating': 6.952, 'price_range': 'None - None', 'link': 'https://www.foody.vn', 'image': None}\n",
      "{'name': 'Gà rán và Mì Ý - Jollibee - Cổ Linh', 'address': 'Tầng 3, AEON Mall Long Biên, 27 Cổ Linh, Quận Long Biên, Hà Nội', 'rating': 7.074, 'price_range': 'None - None', 'link': 'https://www.foody.vn', 'image': None}\n",
      "{'name': 'Salavi - Bánh Mì Nướng Muối Ớt - Nghi Tàm', 'address': '234 Nghi Tàm, P. Yên Phụ, Quận Tây Hồ, Hà Nội', 'rating': 7.602, 'price_range': 'None - None', 'link': 'https://www.foody.vn', 'image': None}\n",
      "{'name': 'Sinh Tố & Nước Ép 191', 'address': 'Số 15 Ngõ 229 Minh Khai, P. Minh Khai, Quận Hai Bà Trưng, Hà Nội', 'rating': 2.13, 'price_range': 'None - None', 'link': 'https://www.foody.vn', 'image': None}\n",
      "{'name': 'Canh Bún Phố Cổ - Bà Điệp Food', 'address': 'Số 2 Hẻm 12 Ngách 26 Ngõ Cống Trắng, P. Khâm Thiên, Quận Đống Đa, Hà Nội', 'rating': 10.0, 'price_range': 'None - None', 'link': 'https://www.foody.vn', 'image': None}\n",
      "{'name': 'LaBoong - Trà Ô Long Làng La Boong - 146 Vũ Phạm Hàm', 'address': '146 Vũ Phạm Hàm, P. Yên Hoà, Quận Cầu Giấy, Hà Nội', 'rating': 10.0, 'price_range': 'None - None', 'link': 'https://www.foody.vn', 'image': None}\n",
      "{'name': 'Chè Sầu Liên - 79 Trần Quốc Hoàn', 'address': '79 Trần Quốc Hoàn, P. Dịch Vọng Hậu, Quận Cầu Giấy, Hà Nội', 'rating': 6.31, 'price_range': 'None - None', 'link': 'https://www.foody.vn', 'image': None}\n",
      "{'name': 'Bánh Mì Cô Thủy - Pate Hải Phòng', 'address': 'Toà V1 Chung Cư Victoria Văn Phú, Văn Phú, P. Phú La, Quận Hà Đông, Hà Nội', 'rating': 6.0, 'price_range': 'None - None', 'link': 'https://www.foody.vn', 'image': None}\n",
      "{'name': 'Thắng Huyền - Mì Vằn Thắn & Sủi Cảo', 'address': '125 Mai Hắc Đế, Quận Hai Bà Trưng, Hà Nội', 'rating': 7.034, 'price_range': 'None - None', 'link': 'https://www.foody.vn', 'image': None}\n"
     ]
    }
   ],
   "source": [
    "import requests\n",
    "import json\n",
    "\n",
    "def crawl_foody_places(page=1):\n",
    "    url = \"https://www.foody.vn/__get/Place/HomeListPlace\"\n",
    "    params = {\n",
    "        \"t\": \"1744954230159\",\n",
    "        \"page\": page,\n",
    "        \"lat\": 21.033333,\n",
    "        \"lon\": 105.85,\n",
    "        \"count\": 12,\n",
    "        \"type\": 1\n",
    "    }\n",
    "    headers = {\n",
    "        \"User-Agent\": \"Mozilla/5.0 (Macintosh; Intel Mac OS X 10_15_7) AppleWebKit/537.36 (KHTML, like Gecko) Chrome/122.0.0.0 Safari/537.36\",\n",
    "        \"Referer\": \"https://www.foody.vn/ha-noi\",\n",
    "        \"Accept\": \"application/json, text/plain, */*\",\n",
    "        \"X-Requested-With\": \"XMLHttpRequest\"\n",
    "    }\n",
    "\n",
    "    response = requests.get(url, params=params, headers=headers)\n",
    "    print(\"Status:\", response.status_code)\n",
    "\n",
    "    try:\n",
    "        data = response.json()\n",
    "    except Exception as e:\n",
    "        print(\"❌ JSON decode error:\", e)\n",
    "        print(\"🔎 Raw response (first 500 chars):\", response.text[:500])\n",
    "        return\n",
    "\n",
    "    places = data.get(\"Items\", [])\n",
    "    for place in places:\n",
    "        print({\n",
    "            \"name\": place.get(\"Name\"),\n",
    "            \"address\": place.get(\"Address\"),\n",
    "            \"rating\": place.get(\"AvgRating\"),\n",
    "            \"price_range\": f\"{place.get('PriceFrom')} - {place.get('PriceTo')}\",\n",
    "            \"link\": \"https://www.foody.vn\" + place.get(\"DetailUrl\", \"\"),\n",
    "            \"image\": place.get(\"PicturePath\")\n",
    "        })\n",
    "\n",
    "# Test 1 page\n",
    "crawl_foody_places(1)\n"
   ]
  },
  {
   "cell_type": "code",
   "execution_count": 2,
   "metadata": {},
   "outputs": [
    {
     "name": "stdout",
     "output_type": "stream",
     "text": [
      "✅ Đã merge 5 object(s) vào /Users/doa_ai/Developer/Grab-project/ai/crawl_tripadvisor/data_all.json\n"
     ]
    }
   ],
   "source": [
    "import os\n",
    "import json\n",
    "\n",
    "# Đường dẫn đến thư mục chứa các file JSON\n",
    "folder_path = \"/Users/doa_ai/Developer/Grab-project/ai/crawl_tripadvisor/checkpoints\"\n",
    "\n",
    "# Danh sách để lưu nội dung đã đọc từ từng file JSON\n",
    "merged_data = []\n",
    "\n",
    "# Lặp qua tất cả các file trong thư mục\n",
    "for filename in os.listdir(folder_path):\n",
    "    if filename.endswith(\".json\"):\n",
    "        file_path = os.path.join(folder_path, filename)\n",
    "        with open(file_path, \"r\", encoding=\"utf-8\") as f:\n",
    "            try:\n",
    "                data = json.load(f)\n",
    "                # Nếu mỗi file là 1 list, gộp thẳng vào merged_data\n",
    "                if isinstance(data, list):\n",
    "                    merged_data.extend(data)\n",
    "                else:\n",
    "                    merged_data.append(data)\n",
    "            except Exception as e:\n",
    "                print(f\"⚠️ Lỗi đọc file {filename}: {e}\")\n",
    "\n",
    "# Ghi kết quả ra file mới\n",
    "output_file = \"/Users/doa_ai/Developer/Grab-project/ai/crawl_tripadvisor/data_all.json\"\n",
    "with open(output_file, \"w\", encoding=\"utf-8\") as f:\n",
    "    json.dump(merged_data, f, ensure_ascii=False, indent=2)\n",
    "\n",
    "print(f\"✅ Đã merge {len(merged_data)} object(s) vào {output_file}\")\n"
   ]
  }
 ],
 "metadata": {
  "kernelspec": {
   "display_name": "base",
   "language": "python",
   "name": "python3"
  },
  "language_info": {
   "codemirror_mode": {
    "name": "ipython",
    "version": 3
   },
   "file_extension": ".py",
   "mimetype": "text/x-python",
   "name": "python",
   "nbconvert_exporter": "python",
   "pygments_lexer": "ipython3",
   "version": "3.12.4"
  }
 },
 "nbformat": 4,
 "nbformat_minor": 2
}
