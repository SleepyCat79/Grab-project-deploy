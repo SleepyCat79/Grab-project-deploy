{
 "cells": [
  {
   "cell_type": "code",
   "execution_count": 11,
   "metadata": {},
   "outputs": [
    {
     "name": "stdout",
     "output_type": "stream",
     "text": [
      "🎯 Tour 1: THÁC DATANLA – VINPEARL NHA TRANG – VỊNH SAN HÔ – LÀNG CHÀI – BÃI TRANH\n",
      "📍 Ngày đi: 17/04, 08/05, 15/05/2025... (4 ngày 3 đêm) | 📅 Hành trình: Đà Lạt - Nha Trang - 4 ngày 3 đêm | 💰 7,250,000đ\n",
      "https://hanoitourist.vn/sites/default/files/2024/02/1_2.png\n",
      "────────────\n"
     ]
    }
   ],
   "source": [
    "import asyncio\n",
    "from playwright.async_api import async_playwright\n",
    "import aiohttp\n",
    "import os\n",
    "\n",
    "async def download_image(session, url, filename):\n",
    "    async with session.get(url) as resp:\n",
    "        if resp.status == 200:\n",
    "            with open(filename, 'wb') as f:\n",
    "                f.write(await resp.read())\n",
    "                \n",
    "async def crawl_tours():\n",
    "    async with async_playwright() as p:\n",
    "        browser = await p.chromium.launch(headless=True)  # True để khỏi bật browser\n",
    "        page = await browser.new_page()\n",
    "\n",
    "        await page.goto(\"https://hanoitourist.vn/tour-trong-nuoc\")\n",
    "        await page.wait_for_timeout(8000)  # Chờ các lazyload tải xong\n",
    "\n",
    "        # Lấy từng khối tour\n",
    "        tour_cards = await page.locator(\"div.tour-item\").all()\n",
    "        async with aiohttp.ClientSession() as session:\n",
    "            for i, card in enumerate(tour_cards):\n",
    "                title = await card.locator(\"h3 a\").inner_text()\n",
    "                price = await card.locator(\"div.detail-gia\").inner_text()\n",
    "                location = await card.locator(\"div.detail-item-value >> nth=1\").inner_text()\n",
    "                dates = await card.locator(\"div.detail-item-value >> nth=0\").inner_text()\n",
    "                image_url = await card.locator(\"div.tour-img img\").get_attribute(\"src\")\n",
    "                filename = f\"tour_image_{i+1}.jpg\"\n",
    "\n",
    "            # Bỏ qua nếu không có ảnh\n",
    "                if image_url:\n",
    "                    await download_image(session, image_url, filename)\n",
    "                print(f\"🎯 Tour {i+1}: {title}\")\n",
    "                print(f\"📍 {location} | 📅 {dates} | 💰 {price}\")\n",
    "                print(image_url)\n",
    "                print(\"────────────\")\n",
    "                if i == 0:\n",
    "                    break\n",
    "            await browser.close()\n",
    "\n",
    "# Nếu chạy trong notebook thì dùng nest_asyncio\n",
    "import nest_asyncio\n",
    "nest_asyncio.apply()\n",
    "await crawl_tours()\n",
    "\n",
    "\n"
   ]
  },
  {
   "cell_type": "code",
   "execution_count": null,
   "metadata": {},
   "outputs": [],
   "source": []
  }
 ],
 "metadata": {
  "kernelspec": {
   "display_name": "base",
   "language": "python",
   "name": "python3"
  },
  "language_info": {
   "codemirror_mode": {
    "name": "ipython",
    "version": 3
   },
   "file_extension": ".py",
   "mimetype": "text/x-python",
   "name": "python",
   "nbconvert_exporter": "python",
   "pygments_lexer": "ipython3",
   "version": "3.12.4"
  }
 },
 "nbformat": 4,
 "nbformat_minor": 2
}
